{
 "cells": [
  {
   "cell_type": "markdown",
   "metadata": {},
   "source": [
    "# An Analysis of DUI's Issued in Ames, Iowa"
   ]
  },
  {
   "cell_type": "markdown",
   "metadata": {},
   "source": [
    "This project is an analysis of DUI's issued by police in Ames, Iowa between years 2013 and 2017. \n",
    "\n",
    "Ames is a college town and tickets were issued either by the **Iowa State University's Police Department** or by the **Ames Police Department**. The dataset includes information about the **time** the tickets were issued, the **police department** that issued the ticket and finally **gender** and **blood alcohol concentration levels** (two readings) of the recipients for 1556 cases.\n",
    "\n",
    "We will take a look if **gender**, **time of the day**, and **month of the year** play a role in the number of tickets issued. Eventually we will decide whether Ames' being a college town plays a role in increased number of tickets."
   ]
  },
  {
   "cell_type": "code",
   "execution_count": 1,
   "metadata": {},
   "outputs": [],
   "source": [
    "#Import necessary libraries:\n",
    "import pandas as pd\n",
    "import seaborn as sns\n",
    "import matplotlib.pyplot as plt\n",
    "#Set styles for pyplot and seaborn\n",
    "plt.style.use('classic')\n",
    "sns.set_style('ticks')"
   ]
  },
  {
   "cell_type": "code",
   "execution_count": 2,
   "metadata": {},
   "outputs": [
    {
     "name": "stdout",
     "output_type": "stream",
     "text": [
      "The data set has 1556 entries and 8 columns.\n"
     ]
    },
    {
     "data": {
      "text/html": [
       "<div>\n",
       "<style scoped>\n",
       "    .dataframe tbody tr th:only-of-type {\n",
       "        vertical-align: middle;\n",
       "    }\n",
       "\n",
       "    .dataframe tbody tr th {\n",
       "        vertical-align: top;\n",
       "    }\n",
       "\n",
       "    .dataframe thead th {\n",
       "        text-align: right;\n",
       "    }\n",
       "</style>\n",
       "<table border=\"1\" class=\"dataframe\">\n",
       "  <thead>\n",
       "    <tr style=\"text-align: right;\">\n",
       "      <th></th>\n",
       "      <th>year</th>\n",
       "      <th>month</th>\n",
       "      <th>day</th>\n",
       "      <th>hour</th>\n",
       "      <th>location</th>\n",
       "      <th>gender</th>\n",
       "      <th>Res1</th>\n",
       "      <th>Res2</th>\n",
       "    </tr>\n",
       "  </thead>\n",
       "  <tbody>\n",
       "    <tr>\n",
       "      <th>0</th>\n",
       "      <td>2017</td>\n",
       "      <td>12</td>\n",
       "      <td>17</td>\n",
       "      <td>1</td>\n",
       "      <td>Ames PD</td>\n",
       "      <td>M</td>\n",
       "      <td>0.046</td>\n",
       "      <td>0.046</td>\n",
       "    </tr>\n",
       "    <tr>\n",
       "      <th>1</th>\n",
       "      <td>2017</td>\n",
       "      <td>12</td>\n",
       "      <td>14</td>\n",
       "      <td>3</td>\n",
       "      <td>ISU PD</td>\n",
       "      <td>F</td>\n",
       "      <td>0.121</td>\n",
       "      <td>0.120</td>\n",
       "    </tr>\n",
       "    <tr>\n",
       "      <th>2</th>\n",
       "      <td>2017</td>\n",
       "      <td>12</td>\n",
       "      <td>10</td>\n",
       "      <td>5</td>\n",
       "      <td>ISU PD</td>\n",
       "      <td>F</td>\n",
       "      <td>0.068</td>\n",
       "      <td>0.067</td>\n",
       "    </tr>\n",
       "    <tr>\n",
       "      <th>3</th>\n",
       "      <td>2017</td>\n",
       "      <td>12</td>\n",
       "      <td>10</td>\n",
       "      <td>3</td>\n",
       "      <td>ISU PD</td>\n",
       "      <td>F</td>\n",
       "      <td>0.077</td>\n",
       "      <td>0.077</td>\n",
       "    </tr>\n",
       "    <tr>\n",
       "      <th>4</th>\n",
       "      <td>2017</td>\n",
       "      <td>12</td>\n",
       "      <td>9</td>\n",
       "      <td>2</td>\n",
       "      <td>ISU PD</td>\n",
       "      <td>M</td>\n",
       "      <td>0.085</td>\n",
       "      <td>0.084</td>\n",
       "    </tr>\n",
       "  </tbody>\n",
       "</table>\n",
       "</div>"
      ],
      "text/plain": [
       "   year  month  day  hour location gender   Res1   Res2\n",
       "0  2017     12   17     1  Ames PD      M  0.046  0.046\n",
       "1  2017     12   14     3   ISU PD      F  0.121  0.120\n",
       "2  2017     12   10     5   ISU PD      F  0.068  0.067\n",
       "3  2017     12   10     3   ISU PD      F  0.077  0.077\n",
       "4  2017     12    9     2   ISU PD      M  0.085  0.084"
      ]
     },
     "metadata": {},
     "output_type": "display_data"
    },
    {
     "name": "stdout",
     "output_type": "stream",
     "text": [
      "<class 'pandas.core.frame.DataFrame'>\n",
      "RangeIndex: 1556 entries, 0 to 1555\n",
      "Data columns (total 8 columns):\n",
      " #   Column    Non-Null Count  Dtype  \n",
      "---  ------    --------------  -----  \n",
      " 0   year      1556 non-null   int64  \n",
      " 1   month     1556 non-null   int64  \n",
      " 2   day       1556 non-null   int64  \n",
      " 3   hour      1556 non-null   int64  \n",
      " 4   location  1556 non-null   object \n",
      " 5   gender    1527 non-null   object \n",
      " 6   Res1      1556 non-null   float64\n",
      " 7   Res2      1556 non-null   float64\n",
      "dtypes: float64(2), int64(4), object(2)\n",
      "memory usage: 97.4+ KB\n"
     ]
    }
   ],
   "source": [
    "#Read the dataset \n",
    "breath = pd.read_csv('breath_alcohol_ames.csv')\n",
    "print(\"The data set has {} entries and {} columns.\".format(breath.shape[0], breath.shape[1]))\n",
    "display(breath.head())\n",
    "breath.info()"
   ]
  },
  {
   "cell_type": "markdown",
   "metadata": {},
   "source": [
    "## DUI's Issued over the Years:\n",
    "First, let's take a look at how number of DUI's has changed over the years. "
   ]
  },
  {
   "cell_type": "code",
   "execution_count": 13,
   "metadata": {},
   "outputs": [
    {
     "data": {
      "text/plain": [
       "Text(0, 0.5, \"Number of DUI's\")"
      ]
     },
     "execution_count": 13,
     "metadata": {},
     "output_type": "execute_result"
    },
    {
     "data": {
      "image/png": "[encoded data removed]",
      "text/plain": [
       "<Figure size 432x288 with 1 Axes>"
      ]
     },
     "metadata": {
      "needs_background": "light"
     },
     "output_type": "display_data"
    }
   ],
   "source": [
    "#Count number of DUI's Issued per year:\n",
    "yearly = breath.year.value_counts().rename_axis('year').to_frame('DUI\\'s issued')\n",
    "#Plot the result as a bar plot\n",
    "yearly.plot.bar(rot=30, color='#f6620e', legend=None)\n",
    "yearly.head()\n",
    "plt.title('Number of DUI\\'s Issued per Year')\n",
    "plt.xlabel('Year')\n",
    "plt.ylabel('Number of DUI\\'s')"
   ]
  },
  {
   "cell_type": "markdown",
   "metadata": {},
   "source": [
    "Apparently since 2013 people have been getting fewer DUI tickets. "
   ]
  },
  {
   "cell_type": "markdown",
   "metadata": {},
   "source": [
    "## DUI's Issued per Gender:\n",
    "\n",
    "Let's see if gender plays a role in getting tickets for driving under the influence.\n",
    "\n",
    "First, let's see if need to clean the data. We see below that in 29 cases the gender wasn't specified. We need to get rid of those cases to analyze how gender plays a role in getting tickets."
   ]
  },
  {
   "cell_type": "code",
   "execution_count": 4,
   "metadata": {},
   "outputs": [
    {
     "data": {
      "text/plain": [
       "year         0\n",
       "month        0\n",
       "day          0\n",
       "hour         0\n",
       "location     0\n",
       "gender      29\n",
       "Res1         0\n",
       "Res2         0\n",
       "dtype: int64"
      ]
     },
     "metadata": {},
     "output_type": "display_data"
    },
    {
     "data": {
      "text/plain": [
       "year        0\n",
       "month       0\n",
       "day         0\n",
       "hour        0\n",
       "location    0\n",
       "gender      0\n",
       "Res1        0\n",
       "Res2        0\n",
       "dtype: int64"
      ]
     },
     "metadata": {},
     "output_type": "display_data"
    }
   ],
   "source": [
    "#Count the number of cases where gender wasn't specified:\n",
    "display(breath.isnull().sum())\n",
    "#Get rid of the data where gender wasn't specified\n",
    "gender = breath.dropna(subset=['gender'])\n",
    "display(gender.isnull().sum())"
   ]
  },
  {
   "cell_type": "markdown",
   "metadata": {},
   "source": [
    "Counting the male and female offenders, we see that the number of males are almost three times that of females. "
   ]
  },
  {
   "cell_type": "code",
   "execution_count": 15,
   "metadata": {},
   "outputs": [
    {
     "data": {
      "text/html": [
       "<div>\n",
       "<style scoped>\n",
       "    .dataframe tbody tr th:only-of-type {\n",
       "        vertical-align: middle;\n",
       "    }\n",
       "\n",
       "    .dataframe tbody tr th {\n",
       "        vertical-align: top;\n",
       "    }\n",
       "\n",
       "    .dataframe thead th {\n",
       "        text-align: right;\n",
       "    }\n",
       "</style>\n",
       "<table border=\"1\" class=\"dataframe\">\n",
       "  <thead>\n",
       "    <tr style=\"text-align: right;\">\n",
       "      <th></th>\n",
       "      <th>Gender</th>\n",
       "      <th>Number of DUI's issued</th>\n",
       "    </tr>\n",
       "  </thead>\n",
       "  <tbody>\n",
       "    <tr>\n",
       "      <th>0</th>\n",
       "      <td>M</td>\n",
       "      <td>1102</td>\n",
       "    </tr>\n",
       "    <tr>\n",
       "      <th>1</th>\n",
       "      <td>F</td>\n",
       "      <td>425</td>\n",
       "    </tr>\n",
       "  </tbody>\n",
       "</table>\n",
       "</div>"
      ],
      "text/plain": [
       "  Gender  Number of DUI's issued\n",
       "0      M                    1102\n",
       "1      F                     425"
      ]
     },
     "metadata": {},
     "output_type": "display_data"
    },
    {
     "data": {
      "text/plain": [
       "Text(0, 0.5, \"Number of DUI's\")"
      ]
     },
     "execution_count": 15,
     "metadata": {},
     "output_type": "execute_result"
    },
    {
     "data": {
      "image/png": "[encoded data removed]",
      "text/plain": [
       "<Figure size 432x288 with 1 Axes>"
      ]
     },
     "metadata": {
      "needs_background": "light"
     },
     "output_type": "display_data"
    }
   ],
   "source": [
    "#Count the number of stops per gender:\n",
    "split_by_gender = gender['gender'].value_counts().rename_axis('Gender').\\\n",
    "                                    to_frame('Number of DUI\\'s issued').reset_index(level='Gender')\n",
    "display(split_by_gender)\n",
    "#Plot \n",
    "split_by_gender.plot.bar('Gender', 'Number of DUI\\'s issued', color=['blue','red'], rot=0, legend=None)\n",
    "plt.title('Number of DUI\\'s Issued')\n",
    "plt.ylabel('Number of DUI\\'s')"
   ]
  },
  {
   "cell_type": "markdown",
   "metadata": {},
   "source": [
    "Let's see if this is a trend we see over the years.\n",
    "\n",
    "The following graph shows that in general, female behavior is similar to that of their male counterparts throughout the years, except fewer females follow the suit."
   ]
  },
  {
   "cell_type": "code",
   "execution_count": 6,
   "metadata": {},
   "outputs": [
    {
     "data": {
      "text/plain": [
       "Text(0.5, 0, 'Year')"
      ]
     },
     "execution_count": 6,
     "metadata": {},
     "output_type": "execute_result"
    },
    {
     "data": {
      "image/png": "[encoded data removed]",
      "text/plain": [
       "<Figure size 432x288 with 1 Axes>"
      ]
     },
     "metadata": {
      "needs_background": "light"
     },
     "output_type": "display_data"
    }
   ],
   "source": [
    "#Count the number of tickets per gender per year\n",
    "gender_split_by_year = gender.groupby('year')['gender'].value_counts()\n",
    "#Create a DataFrame\n",
    "gender_split_by_year = gender_split_by_year.to_frame()\n",
    "#Correctly identify columns\n",
    "gender_split_by_year.rename(columns={'gender': 'DUI\\'s issued'}, inplace=True)\n",
    "#Reset multilevel index in two steps \n",
    "gender_split_by_year  = gender_split_by_year.reset_index(level= 'gender')\n",
    "gender_split_by_year  = gender_split_by_year.reset_index(level= 'year')\n",
    "#Plot the data \n",
    "sns.barplot(data=gender_split_by_year, x='year', y='DUI\\'s issued',hue='gender',\\\n",
    "                        palette={'M':'#1776ab', 'F':'#fd6bbe'}).\\\n",
    "                        set(title='DUI\\'s Issued per Gender over the Years')\n",
    "plt.xlabel('Year')"
   ]
  },
  {
   "cell_type": "markdown",
   "metadata": {},
   "source": [
    "## Blood Alcohol Levels per Gender:\n",
    "Let's turn our attention to each gender's blood alcohol concentration levels. The data comprise of two alcohol concentration tests for each person. We will take the average of these tests to make the analysis easier. \n",
    "\n",
    "In the following boxplot, we see that women's average blood alcohol concentration level is slightly higher than that of men's. They have more outliers in the higher concentration cohort. Even the first quartile starts at a higher level than that of men's. Why is that?\n",
    "One plausible explanation may be, women's bodies are smaller in general. So, the same amount of alcohol may be detected at higher concentration levels in their bloodstream. Also, they are much more likely to skip a meal or eat less than men, so drinks will be absorbed into the bloodstream faster and at higher concentrations. \n",
    "More information can be found <a href=\"https://www.winchesterhospital.org/health-library/article?id=157010\">here</a>. "
   ]
  },
  {
   "cell_type": "code",
   "execution_count": 7,
   "metadata": {},
   "outputs": [
    {
     "data": {
      "text/plain": [
       "Text(0.5, 1.0, 'Blood Alcohol Concentration per Gender')"
      ]
     },
     "execution_count": 7,
     "metadata": {},
     "output_type": "execute_result"
    },
    {
     "data": {
      "image/png": "[encoded data removed]",
      "text/plain": [
       "<Figure size 432x288 with 1 Axes>"
      ]
     },
     "metadata": {
      "needs_background": "light"
     },
     "output_type": "display_data"
    }
   ],
   "source": [
    "#Get the average of two reads:\n",
    "average = gender.assign(Avg_con=lambda row: (row['Res1']+row['Res2'])/2)\n",
    "#Plot the average concentration levels per gender:\n",
    "ax = sns.boxplot('gender', 'Avg_con', data=average, palette=['#1776ab', '#fd6bbe'])\n",
    "ax.set_xlabel('Gender')\n",
    "ax.set_ylabel('Average Concentration')\n",
    "ax.set_title('Blood Alcohol Concentration per Gender')"
   ]
  },
  {
   "cell_type": "markdown",
   "metadata": {},
   "source": [
    "## Time of the Day DUI's were Issued the Most:\n",
    "So far, we explored how gender played a role in getting DUI tickets. Now, let's shift our attention to when they were issued more. In the following bar graph, we see that night hours are the busiest. Especially around 2 a.m. there is a big spike."
   ]
  },
  {
   "cell_type": "code",
   "execution_count": 8,
   "metadata": {
    "scrolled": true
   },
   "outputs": [
    {
     "data": {
      "text/plain": [
       "Text(0, 0.5, \"Number of DUI's\")"
      ]
     },
     "execution_count": 8,
     "metadata": {},
     "output_type": "execute_result"
    },
    {
     "data": {
      "image/png": "[encoded data removed]",
      "text/plain": [
       "<Figure size 432x288 with 1 Axes>"
      ]
     },
     "metadata": {
      "needs_background": "light"
     },
     "output_type": "display_data"
    }
   ],
   "source": [
    "#Create a dataframe that groups tickets by the hour they were issued at\n",
    "by_hour = breath.groupby(['hour']).size().to_frame().reset_index()\n",
    "by_hour.rename(columns={'hour':'Hour', 0:'Numbers'}, inplace=True)\n",
    "sns.barplot(x='Hour',y='Numbers', data=by_hour).set(title='The Time of the Day the DUI\\'s Issued')\n",
    "plt.ylabel('Number of DUI\\'s')"
   ]
  },
  {
   "cell_type": "markdown",
   "metadata": {},
   "source": [
    "## Month of the Year the DUI\\'s Issued the Most:\n",
    "Let's see if there is any meaningful fluctuation in the number of DUI's throughout the months of the year. \n",
    "\n",
    "From the bar graph below, we gather that whenever students come back from their hometowns, there is an increase in the number of  DUI's. After Christmas break, we see there is an increase in January (new year's party?). After summer break, we see an increase in August. Also, during April there is an increase as well which coincides with the spring break. **Since increased number of DUI's coincides with the yearly schedule of the students, we may infer that students are more likely to get DUI's than town's regular residents.** Let's delve deeper into this."
   ]
  },
  {
   "cell_type": "code",
   "execution_count": 19,
   "metadata": {},
   "outputs": [
    {
     "data": {
      "image/png": "[encoded data removed]",
      "text/plain": [
       "<Figure size 432x288 with 1 Axes>"
      ]
     },
     "metadata": {
      "needs_background": "light"
     },
     "output_type": "display_data"
    }
   ],
   "source": [
    "#Create a dataframe that groups tickets by the month there were issued at\n",
    "by_month = breath.groupby(['month']).size().to_frame().reset_index()\n",
    "by_month.rename(columns={'month':'Month',0:'Number of DUI\\'s'}, inplace=True)\n",
    "ax = sns.barplot(x='Month', y='Number of DUI\\'s', data=by_month)\n",
    "months = ['January', 'February', 'March', 'April', 'May', 'June', 'July', 'August','September','October', 'November','December']\n",
    "ax.set_xticklabels(months, rotation=30)\n",
    "ax.set_title('Number of DUI\\'s Issued per Month')\n",
    "plt.show()"
   ]
  },
  {
   "cell_type": "markdown",
   "metadata": {},
   "source": [
    "## Who Gets More Tickets; Students or Town Residents?\n",
    "\n",
    "In this <a href=\"https://en.wikipedia.org/wiki/Ames,_Iowa\">Wikipedia </a> article, Ames is described as:\n",
    "\"In 2020, Ames had a population of 66,427, making it the state's ninth largest city. Iowa State University was home to 33,391 students as of fall 2019 which make up approximately one half of the city's population.\" \n",
    "\n",
    "In the graph above, it looks like Ames' half of population being students plays a role in the number of tickets issued for DUI's. Let's check this by looking at which police department issued more tickets.\n"
   ]
  },
  {
   "cell_type": "code",
   "execution_count": 18,
   "metadata": {},
   "outputs": [
    {
     "data": {
      "text/html": [
       "<div>\n",
       "<style scoped>\n",
       "    .dataframe tbody tr th:only-of-type {\n",
       "        vertical-align: middle;\n",
       "    }\n",
       "\n",
       "    .dataframe tbody tr th {\n",
       "        vertical-align: top;\n",
       "    }\n",
       "\n",
       "    .dataframe thead th {\n",
       "        text-align: right;\n",
       "    }\n",
       "</style>\n",
       "<table border=\"1\" class=\"dataframe\">\n",
       "  <thead>\n",
       "    <tr style=\"text-align: right;\">\n",
       "      <th></th>\n",
       "      <th>Police Department</th>\n",
       "      <th># of tickets issued</th>\n",
       "    </tr>\n",
       "  </thead>\n",
       "  <tbody>\n",
       "    <tr>\n",
       "      <th>0</th>\n",
       "      <td>ISU PD</td>\n",
       "      <td>940</td>\n",
       "    </tr>\n",
       "    <tr>\n",
       "      <th>1</th>\n",
       "      <td>Ames PD</td>\n",
       "      <td>616</td>\n",
       "    </tr>\n",
       "  </tbody>\n",
       "</table>\n",
       "</div>"
      ],
      "text/plain": [
       "  Police Department  # of tickets issued\n",
       "0            ISU PD                  940\n",
       "1           Ames PD                  616"
      ]
     },
     "metadata": {},
     "output_type": "display_data"
    },
    {
     "data": {
      "text/plain": [
       "[Text(0.5, 1.0, 'Number of Tickets Issued by Each Police Department')]"
      ]
     },
     "execution_count": 18,
     "metadata": {},
     "output_type": "execute_result"
    },
    {
     "data": {
      "image/png": "[encoded data removed]",
      "text/plain": [
       "<Figure size 432x288 with 1 Axes>"
      ]
     },
     "metadata": {
      "needs_background": "light"
     },
     "output_type": "display_data"
    }
   ],
   "source": [
    "#Count the number of tickets issued by each police department\n",
    "department = breath.location.value_counts()\n",
    "dep_frame = department.to_frame().reset_index()\n",
    "dep_frame.rename(columns={'index':'Police Department','location':'# of tickets issued'}, inplace=True)\n",
    "display(dep_frame)\n",
    "sns.barplot('Police Department', '# of tickets issued', data=dep_frame, palette='rocket')\\\n",
    ".set(title='Number of Tickets Issued by Each Police Department')\n"
   ]
  },
  {
   "cell_type": "markdown",
   "metadata": {},
   "source": [
    "It looks like the Iowa State University's Police Department issued about one third more tickets than what Ames Police Department did. \n",
    "\n",
    "Therefore, we can safely claim that college students are responsible for the bigger share of DUI's issued in this small town. "
   ]
  },
  {
   "cell_type": "code",
   "execution_count": null,
   "metadata": {},
   "outputs": [],
   "source": []
  }
 ],
 "metadata": {
  "kernelspec": {
   "display_name": "Python 3",
   "language": "python",
   "name": "python3"
  },
  "language_info": {
   "codemirror_mode": {
    "name": "ipython",
    "version": 3
   },
   "file_extension": ".py",
   "mimetype": "text/x-python",
   "name": "python",
   "nbconvert_exporter": "python",
   "pygments_lexer": "ipython3",
   "version": "3.8.3"
  }
 },
 "nbformat": 4,
 "nbformat_minor": 4
}
